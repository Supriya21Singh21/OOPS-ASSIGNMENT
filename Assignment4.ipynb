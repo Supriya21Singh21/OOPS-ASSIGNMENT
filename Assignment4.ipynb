{
  "nbformat": 4,
  "nbformat_minor": 0,
  "metadata": {
    "colab": {
      "provenance": []
    },
    "kernelspec": {
      "name": "python3",
      "display_name": "Python 3"
    },
    "language_info": {
      "name": "python"
    }
  },
  "cells": [
    {
      "cell_type": "markdown",
      "source": [],
      "metadata": {
        "id": "dVq2izv-SSX_"
      }
    },
    {
      "cell_type": "markdown",
      "source": [
        "1.  What is Object-Oriented Programming (OOP) ?\n",
        "\n",
        "  - Object-Oriented Programming (OOP) is a programming paradigm that organizes code into objects, which are instances of classes that bundle data and behavior together. It focuses on encapsulation, inheritance, polymorphism, and abstraction to create modular and reusable code.\n",
        "\n",
        "2. What is a class in OOP?\n",
        "\n",
        "  - A class is a template that describes the structure and behavior of objects.\n",
        "\n",
        "3. What is an object in OOP?\n",
        "\n",
        "  - An object is a real-world entity created from a class, containing actual values and functionality.\n",
        "\n",
        "4.  What is the difference between abstraction and encapsulation?\n",
        "\n",
        "  - Abstraction:\n",
        "\n",
        "     -  Hides complex implementation and shows only essential features.\n",
        "\n",
        "     -  Focuses on what an object does.\n",
        "\n",
        "     Encapsulation:\n",
        "\n",
        "       - Hides internal data and restricts direct access.\n",
        "\n",
        "       -   Focuses on how it works and protects the data.  \n",
        "\n",
        "5.  What are dunder methods in Python?\n",
        "\n",
        "  - Dunder methods are special methods in Python that customize how objects behave with built-in functions and operators.\n",
        "\n",
        "\n",
        "\n",
        "6.  Explain the concept of inheritance in OOP?\n",
        "\n",
        "  - Inheritance lets a child class reuse and extend the attributes and methods of a parent class. It promotes code reuse, organization, and scalability.\n",
        "\n",
        "7.  What is polymorphism in OOP?\n",
        "\n",
        "  - Polymorphism means “many forms.” In OOP, it allows different classes to be treated through the same interface, even if they implement behavior differently.\n",
        "\n",
        "\n",
        "8. How is encapsulation achieved in Python?\n",
        "\n",
        "  - Encapsulation is achieved by:\n",
        "     - Using underscores to indicate access levels.\n",
        "     - Creating getter/setter methods to control access.\n",
        "\n",
        "9.  What is a constructor in Python?\n",
        "\n",
        "  - In Python, a constructor is a special method used to initialize an object when it's created. It sets up the object’s initial state by assigning values to its attributes.\n",
        "\n",
        "10.  What are class and static methods in Python?\n",
        "\n",
        "  - - Class Method: A method defined with @classmethod that receives the class (cls) as its first argument and can access or modify class-level data.\n",
        "- Static Method: A method defined with @staticmethod that does not receive self or cls and behaves like a regular function placed inside a class for organizational purposes.\n",
        "\n",
        "\n",
        "11.  What is method overloading in Python?\n",
        "\n",
        "  - Method overloading refers to defining multiple methods with the same name but different parameters. While many languages support this directly, Python does not support traditional method overloading—the last defined method with the same name overrides the previous ones.\n",
        "\n",
        "12. What is method overriding in OOP?\n",
        "\n",
        "  - Method overriding occurs when a child class provides a specific implementation of a method that is already defined in its parent class. It allows the child class to customize or replace inherited behavior.\n",
        "\n",
        "13.  What is a property decorator in Python?\n",
        "\n",
        "  - The Property decorator in Python is used to turn a method into a read-only attribute. It allows you to access a method like an attribute, enabling encapsulation while keeping syntax clean.\n",
        "\n",
        "14.  Why is polymorphism important in OOP?\n",
        "\n",
        "  - Polymorphism lets different classes respond to the same method call in their own way. It makes code flexible, reusable, and easy to extend without modifying existing logic.\n",
        "\n",
        "\n",
        "15. What is an abstract class in Python?\n",
        "\n",
        "  - An abstract class is a blueprint for other classes. It can’t be instantiated and contains abstract methods that must be implemented by its subclasses.\n",
        "\n",
        "16. What are the advantages of OOP?\n",
        "\n",
        "  - Modularity: Code is organized into classes, making it easier to manage.\n",
        "  - Reusability: Inheritance allows reuse of existing code.\n",
        "  - Scalability: Easy to extend functionality without rewriting.\n",
        "  - Maintainability: Encapsulation keeps code clean and reduces bugs.\n",
        "  - Flexibility: Polymorphism allows interchangeable object behavior.\n",
        "  - Abstraction: Hides complexity and exposes only essential features.\n",
        "\n",
        "17.  What is the difference between a class variable and an instance variable\n",
        "?\n",
        "\n",
        "  - - A class variable is shared by all instances of a class.\n",
        "       - An instance variable is unique to each object.\n",
        "\n",
        "18.  What is multiple inheritance in Python?\n",
        "\n",
        "  - Multiple inheritance in Python allows a class to inherit from more than one parent class. This means the child class can access the attributes and methods of all its base classes.\n",
        "\n",
        "19.  Explain the purpose of ‘’ _ _ str _ _ ’ and ‘ _ _ repr _ _ ’ ‘ methods in Python.\n",
        "\n",
        "  -  __repr__: Returns a developer-friendly string that’s meant to be unambiguous and ideally recreate the object. Used by repr() and in the Python shell.\n",
        "  - __str__: Returns a user-friendly string that’s meant to be readable. Used by str() and print().\n",
        "\n",
        "20.  What is the significance of the ‘super()’ function in Python?\n",
        "\n",
        "  - 'super()' function in Python is used to call methods from a parent class, especially in inheritance. It helps initialize the parent class and avoids hardcoding class names, making code cleaner and more maintainable.\n",
        "\n",
        "21.  What is the significance of the __del__ method in Python?\n",
        "\n",
        "  -  _ _ del _ _ is a special method called when an object is about to be destroyed. It's used to clean up resources like files or connections, but should be used cautiously due to unpredictable timing of object deletion.\n",
        "\n",
        "22. What is the difference between @staticmethod and @classmethod in Python?\n",
        "\n",
        "  -  @staticmethod: A method that doesn't access class or instance data. Acts like a regular function inside a class.\n",
        "  - @classmethod: A method that accesses the class (cls) and can modify class-level data or create instances.\n",
        "\n",
        "23.  How does polymorphism work in Python with inheritance?\n",
        "\n",
        "  -    -  Polymorphism in Python allows methods to behave differently based on the object calling them.\n",
        "\n",
        "      -   With inheritance, subclasses can override parent methods.\n",
        "\n",
        "       -  You can call the same method on different objects, and each responds in its own way.\n",
        "\n",
        "24.  What is method chaining in Python OOP?\n",
        "\n",
        "  - Method chaining lets you call multiple methods on the same object in one line.\n",
        "\n",
        "25.  What is the purpose of the _ _ call _ _ method in Python?\n",
        "\n",
        "  -  __call__ lets you make an object behave like a function.\n",
        " When defined, you can use object() syntax to \"call\" the instance.\n",
        "Example:\n",
        "\n",
        "\n",
        "\n",
        "\n",
        "\n",
        "\n",
        "\n",
        "\n"
      ],
      "metadata": {
        "id": "eSKi-MP288CA"
      }
    },
    {
      "cell_type": "markdown",
      "source": [
        "# PRACTICAL QUESTION"
      ],
      "metadata": {
        "id": "gglB0icl-LSN"
      }
    },
    {
      "cell_type": "markdown",
      "source": [
        " 1. Create a parent class Animal with a method speak() that prints a generic message. Create a child class Dog\n",
        "that overrides the speak() method to print \"Bark!\"."
      ],
      "metadata": {
        "id": "vrpYyf6q-VkK"
      }
    },
    {
      "cell_type": "code",
      "source": [
        "class Animal:\n",
        "    def speak(self):\n",
        "        print(\"The animal makes a sound.\")\n",
        "\n",
        "class Dog(Animal):\n",
        "    def speak(self):\n",
        "        print(\"Bark!\")\n",
        "\n",
        "# Test it\n",
        "a = Animal()\n",
        "a.speak()  # Output: The animal makes a sound.\n",
        "\n",
        "d = Dog()\n",
        "d.speak()  # Output: Bark!"
      ],
      "metadata": {
        "colab": {
          "base_uri": "https://localhost:8080/"
        },
        "id": "yZQBjwQU-psq",
        "outputId": "6e7f7e24-07a9-4908-b170-6750d899b1cb"
      },
      "execution_count": 1,
      "outputs": [
        {
          "output_type": "stream",
          "name": "stdout",
          "text": [
            "The animal makes a sound.\n",
            "Bark!\n"
          ]
        }
      ]
    },
    {
      "cell_type": "markdown",
      "source": [
        " 2. Write a program to create an abstract class Shape with a method area(). Derive classes Circle and Rectangle from it and implement the area() method in both."
      ],
      "metadata": {
        "id": "_jO95Mln-2r2"
      }
    },
    {
      "cell_type": "code",
      "source": [
        "from abc import ABC, abstractmethod\n",
        "import math\n",
        "\n",
        "# Abstract base class\n",
        "class Shape(ABC):\n",
        "    @abstractmethod\n",
        "    def area(self):\n",
        "        pass\n",
        "\n",
        "# Circle class\n",
        "class Circle(Shape):\n",
        "    def __init__(self, radius):\n",
        "        self.radius = radius\n",
        "\n",
        "    def area(self):\n",
        "        return math.pi * self.radius ** 2\n",
        "\n",
        "# Rectangle class\n",
        "class Rectangle(Shape):\n",
        "    def __init__(self, width, height):\n",
        "        self.width = width\n",
        "        self.height = height\n",
        "\n",
        "    def area(self):\n",
        "        return self.width * self.height\n",
        "\n",
        "# Test the classes\n",
        "c = Circle(5)\n",
        "r = Rectangle(4, 6)\n",
        "\n",
        "print(f\"Circle area: {c.area():.2f}\")     # Output: Circle area: 78.54\n",
        "print(f\"Rectangle area: {r.area()}\")     # Output: Rectangle area: 24"
      ],
      "metadata": {
        "colab": {
          "base_uri": "https://localhost:8080/"
        },
        "id": "tJlv_RS__IYv",
        "outputId": "ac911a3a-7355-4591-b00f-e9dcbad229c2"
      },
      "execution_count": 2,
      "outputs": [
        {
          "output_type": "stream",
          "name": "stdout",
          "text": [
            "Circle area: 78.54\n",
            "Rectangle area: 24\n"
          ]
        }
      ]
    },
    {
      "cell_type": "markdown",
      "source": [
        " 3. Implement a multi-level inheritance scenario where a class Vehicle has an attribute type. Derive a class Car\n",
        "and further derive a class ElectricCar that adds a battery attribute."
      ],
      "metadata": {
        "id": "XU0aNNGO_TaA"
      }
    },
    {
      "cell_type": "code",
      "execution_count": 3,
      "metadata": {
        "id": "urwjmp_ISElR",
        "colab": {
          "base_uri": "https://localhost:8080/"
        },
        "outputId": "97a50d15-2b69-4db0-dd8a-f09bc78e1011"
      },
      "outputs": [
        {
          "output_type": "stream",
          "name": "stdout",
          "text": [
            "Type: Four-wheeler\n",
            "Brand: Tesla\n",
            "Battery: 75 kWh\n"
          ]
        }
      ],
      "source": [
        "# Base class\n",
        "class Vehicle:\n",
        "    def __init__(self, vehicle_type):\n",
        "        self.type = vehicle_type\n",
        "\n",
        "# Derived class\n",
        "class Car(Vehicle):\n",
        "    def __init__(self, vehicle_type, brand):\n",
        "        super().__init__(vehicle_type)\n",
        "        self.brand = brand\n",
        "\n",
        "# Further derived class\n",
        "class ElectricCar(Car):\n",
        "    def __init__(self, vehicle_type, brand, battery_capacity):\n",
        "        super().__init__(vehicle_type, brand)\n",
        "        self.battery = battery_capacity\n",
        "\n",
        "    def display_info(self):\n",
        "        print(f\"Type: {self.type}\")\n",
        "        print(f\"Brand: {self.brand}\")\n",
        "        print(f\"Battery: {self.battery} kWh\")\n",
        "\n",
        "# Test it\n",
        "e_car = ElectricCar(\"Four-wheeler\", \"Tesla\", 75)\n",
        "e_car.display_info()"
      ]
    },
    {
      "cell_type": "markdown",
      "source": [
        " 4. Demonstrate polymorphism by creating a base class Bird with a method fly(). Create two derived classes\n",
        "Sparrow and Penguin that override the fly() method."
      ],
      "metadata": {
        "id": "sIEWI5U2_kGa"
      }
    },
    {
      "cell_type": "code",
      "source": [
        "# Base class\n",
        "class Bird:\n",
        "    def fly(self):\n",
        "        print(\"Bird is flying.\")\n",
        "\n",
        "# Derived class\n",
        "class Sparrow(Bird):\n",
        "    def fly(self):\n",
        "        print(\"Sparrow flies high and fast.\")\n",
        "\n",
        "# Derived class\n",
        "class Penguin(Bird):\n",
        "    def fly(self):\n",
        "        print(\"Penguins can't fly, but they swim well.\")\n",
        "\n",
        "# Polymorphic behavior\n",
        "def show_flight(bird):\n",
        "    bird.fly()\n",
        "\n",
        "# Test it\n",
        "birds = [Sparrow(), Penguin()]\n",
        "for b in birds:\n",
        "    show_flight(b)"
      ],
      "metadata": {
        "colab": {
          "base_uri": "https://localhost:8080/"
        },
        "id": "sRokoQjJ_qhp",
        "outputId": "3fe882d8-4154-4759-9771-a849c368c86d"
      },
      "execution_count": 4,
      "outputs": [
        {
          "output_type": "stream",
          "name": "stdout",
          "text": [
            "Sparrow flies high and fast.\n",
            "Penguins can't fly, but they swim well.\n"
          ]
        }
      ]
    },
    {
      "cell_type": "markdown",
      "source": [
        "5. Write a program to demonstrate encapsulation by creating a class BankAccount with private attributes\n",
        "balance and methods to deposit, withdraw, and check balance."
      ],
      "metadata": {
        "id": "IAKbAAU6_vu6"
      }
    },
    {
      "cell_type": "code",
      "source": [
        "class BankAccount:\n",
        "    def __init__(self, initial_balance=0):\n",
        "        self.__balance = initial_balance  # Private attribute\n",
        "\n",
        "    def deposit(self, amount):\n",
        "        if amount > 0:\n",
        "            self.__balance += amount\n",
        "            print(f\"Deposited ₹{amount}\")\n",
        "        else:\n",
        "            print(\"Invalid deposit amount.\")\n",
        "\n",
        "    def withdraw(self, amount):\n",
        "        if 0 < amount <= self.__balance:\n",
        "            self.__balance -= amount\n",
        "            print(f\"Withdrew ₹{amount}\")\n",
        "        else:\n",
        "            print(\"Insufficient funds or invalid amount.\")\n",
        "\n",
        "    def check_balance(self):\n",
        "        print(f\"Current balance: ₹{self.__balance}\")\n",
        "\n",
        "# Test it\n",
        "account = BankAccount(1000)\n",
        "account.deposit(500)\n",
        "account.withdraw(300)\n",
        "account.check_balance()\n",
        "\n",
        "# Trying to access private attribute directly (not recommended)\n",
        "# print(account.__balance)  # This will raise an AttributeError"
      ],
      "metadata": {
        "colab": {
          "base_uri": "https://localhost:8080/"
        },
        "id": "Q4NiCD_x_4FM",
        "outputId": "35101e54-b8ca-4b61-bb30-328e2484d174"
      },
      "execution_count": 5,
      "outputs": [
        {
          "output_type": "stream",
          "name": "stdout",
          "text": [
            "Deposited ₹500\n",
            "Withdrew ₹300\n",
            "Current balance: ₹1200\n"
          ]
        }
      ]
    },
    {
      "cell_type": "markdown",
      "source": [
        " 6. Demonstrate runtime polymorphism using a method play() in a base class Instrument. Derive classes Guitar\n",
        "and Piano that implement their own version of play()."
      ],
      "metadata": {
        "id": "RMctFPceAIR9"
      }
    },
    {
      "cell_type": "code",
      "source": [
        "# Base class\n",
        "class Instrument:\n",
        "    def play(self):\n",
        "        print(\"Playing an instrument.\")\n",
        "\n",
        "# Derived class\n",
        "class Guitar(Instrument):\n",
        "    def play(self):\n",
        "        print(\"Strumming the guitar.\")\n",
        "\n",
        "# Derived class\n",
        "class Piano(Instrument):\n",
        "    def play(self):\n",
        "        print(\"Playing the piano keys.\")\n",
        "\n",
        "# Polymorphic function\n",
        "def perform(instrument):\n",
        "    instrument.play()\n",
        "\n",
        "# Test it\n",
        "instruments = [Guitar(), Piano()]\n",
        "for inst in instruments:\n",
        "    perform(inst)"
      ],
      "metadata": {
        "colab": {
          "base_uri": "https://localhost:8080/"
        },
        "id": "6i4gLnsEAOcX",
        "outputId": "a5ad6fdb-6ffa-4aa5-a77d-c4d419736851"
      },
      "execution_count": 6,
      "outputs": [
        {
          "output_type": "stream",
          "name": "stdout",
          "text": [
            "Strumming the guitar.\n",
            "Playing the piano keys.\n"
          ]
        }
      ]
    },
    {
      "cell_type": "markdown",
      "source": [
        " 7. Create a class MathOperations with a class method add_numbers() to add two numbers and a static\n",
        "method subtract_numbers() to subtract two numbers."
      ],
      "metadata": {
        "id": "Kw4mIHPWAZpw"
      }
    },
    {
      "cell_type": "code",
      "source": [
        "class MathOperations:\n",
        "    @classmethod\n",
        "    def add_numbers(cls, a, b):\n",
        "        return a + b\n",
        "\n",
        "    @staticmethod\n",
        "    def subtract_numbers(a, b):\n",
        "        return a - b\n",
        "\n",
        "# Test it\n",
        "print(\"Addition:\", MathOperations.add_numbers(10, 5))     # Output: 15\n",
        "print(\"Subtraction:\", MathOperations.subtract_numbers(10, 5))  # Output: 5"
      ],
      "metadata": {
        "colab": {
          "base_uri": "https://localhost:8080/"
        },
        "id": "mImnJ8cbAeoS",
        "outputId": "09dee259-a12f-4cd8-beb7-089fb35b936d"
      },
      "execution_count": 7,
      "outputs": [
        {
          "output_type": "stream",
          "name": "stdout",
          "text": [
            "Addition: 15\n",
            "Subtraction: 5\n"
          ]
        }
      ]
    },
    {
      "cell_type": "markdown",
      "source": [
        "8. Implement a class Person with a class method to count the total number of persons created."
      ],
      "metadata": {
        "id": "ojBvLsV4Alsk"
      }
    },
    {
      "cell_type": "code",
      "source": [
        "class Person:\n",
        "    count = 0  # Class variable to track number of persons\n",
        "\n",
        "    def __init__(self, name):\n",
        "        self.name = name\n",
        "        Person.count += 1\n",
        "\n",
        "    @classmethod\n",
        "    def total_persons(cls):\n",
        "        return cls.count\n",
        "\n",
        "# Test it\n",
        "p1 = Person(\"Alice\")\n",
        "p2 = Person(\"Bob\")\n",
        "p3 = Person(\"Charlie\")\n",
        "\n",
        "print(\"Total persons created:\", Person.total_persons())  # Output: 3"
      ],
      "metadata": {
        "colab": {
          "base_uri": "https://localhost:8080/"
        },
        "id": "b0R5Rf3mAv1Y",
        "outputId": "cc329c2e-070f-403c-ecd5-b5bf43bfa990"
      },
      "execution_count": 8,
      "outputs": [
        {
          "output_type": "stream",
          "name": "stdout",
          "text": [
            "Total persons created: 3\n"
          ]
        }
      ]
    },
    {
      "cell_type": "markdown",
      "source": [
        " 9. Write a class Fraction with attributes numerator and denominator. Override the str method to display the\n",
        "fraction as \"numerator/denominator\"."
      ],
      "metadata": {
        "id": "ksDRLfnzA0lh"
      }
    },
    {
      "cell_type": "code",
      "source": [
        "class Fraction:\n",
        "    def __init__(self, numerator, denominator):\n",
        "        self.numerator = numerator\n",
        "        self.denominator = denominator\n",
        "\n",
        "    def __str__(self):\n",
        "        return f\"{self.numerator}/{self.denominator}\"\n",
        "\n",
        "# Test it\n",
        "f = Fraction(3, 4)\n",
        "print(f)  # Output: 3/4"
      ],
      "metadata": {
        "colab": {
          "base_uri": "https://localhost:8080/"
        },
        "id": "EzObxdgpA4-c",
        "outputId": "7af0dc46-22ee-42b4-e22e-029867b57d9a"
      },
      "execution_count": 9,
      "outputs": [
        {
          "output_type": "stream",
          "name": "stdout",
          "text": [
            "3/4\n"
          ]
        }
      ]
    },
    {
      "cell_type": "markdown",
      "source": [
        " 10. Demonstrate operator overloading by creating a class Vector and overriding the add method to add two\n",
        "vectors."
      ],
      "metadata": {
        "id": "Ubw9_WP3BCeg"
      }
    },
    {
      "cell_type": "code",
      "source": [
        "class Vector:\n",
        "    def __init__(self, x, y):\n",
        "        self.x = x\n",
        "        self.y = y\n",
        "\n",
        "    def __add__(self, other):\n",
        "        return Vector(self.x + other.x, self.y + other.y)\n",
        "\n",
        "    def __str__(self):\n",
        "        return f\"Vector({self.x}, {self.y})\"\n",
        "\n",
        "# Test it\n",
        "v1 = Vector(2, 3)\n",
        "v2 = Vector(4, 5)\n",
        "v3 = v1 + v2\n",
        "\n",
        "print(v3)  # Output: Vector(6, 8)"
      ],
      "metadata": {
        "colab": {
          "base_uri": "https://localhost:8080/"
        },
        "id": "mCF66j9fBPld",
        "outputId": "0d0e28f0-50b4-47f9-bee2-77510aac8d19"
      },
      "execution_count": 10,
      "outputs": [
        {
          "output_type": "stream",
          "name": "stdout",
          "text": [
            "Vector(6, 8)\n"
          ]
        }
      ]
    },
    {
      "cell_type": "markdown",
      "source": [
        " 11. Create a class Person with attributes name and age. Add a method greet() that prints \"Hello, my name is\n",
        "{name} and I am {age} years old.\""
      ],
      "metadata": {
        "id": "bMbDgTBZBWCb"
      }
    },
    {
      "cell_type": "code",
      "source": [
        "class Person:\n",
        "    def __init__(self, name, age):\n",
        "        self.name = name\n",
        "        self.age = age\n",
        "\n",
        "    def greet(self):\n",
        "        print(f\"Hello, my name is {self.name} and I am {self.age} years old.\")\n",
        "\n",
        "# Test it\n",
        "p = Person(\"Alice\", 30)\n",
        "p.greet()  # Output: Hello, my name is Alice and I am 30 years old."
      ],
      "metadata": {
        "colab": {
          "base_uri": "https://localhost:8080/"
        },
        "id": "mhhWjw6oBp6b",
        "outputId": "05b4e605-3272-4472-8d2e-15db8a9310cd"
      },
      "execution_count": 11,
      "outputs": [
        {
          "output_type": "stream",
          "name": "stdout",
          "text": [
            "Hello, my name is Alice and I am 30 years old.\n"
          ]
        }
      ]
    },
    {
      "cell_type": "markdown",
      "source": [
        " 12. Implement a class Student with attributes name and grades. Create a method average_grade() to compute\n",
        "the average of the grades."
      ],
      "metadata": {
        "id": "PplqYBbhBtyD"
      }
    },
    {
      "cell_type": "code",
      "source": [
        "class Student:\n",
        "    def __init__(self, name, grades):\n",
        "        self.name = name\n",
        "        self.grades = grades  # List of numeric grades\n",
        "\n",
        "    def average_grade(self):\n",
        "        if self.grades:\n",
        "            return sum(self.grades) / len(self.grades)\n",
        "        else:\n",
        "            return 0.0\n",
        "\n",
        "# Test it\n",
        "s = Student(\"Rahul\", [85, 90, 78, 92])\n",
        "print(f\"{s.name}'s average grade: {s.average_grade():.2f}\")  # Output: Rahul's average grade: 86.25"
      ],
      "metadata": {
        "colab": {
          "base_uri": "https://localhost:8080/"
        },
        "id": "5XoUPMRlB0qr",
        "outputId": "661f6797-5cf1-41c4-9e2c-4feb82b617b5"
      },
      "execution_count": 12,
      "outputs": [
        {
          "output_type": "stream",
          "name": "stdout",
          "text": [
            "Rahul's average grade: 86.25\n"
          ]
        }
      ]
    },
    {
      "cell_type": "markdown",
      "source": [
        " 13. Create a class Rectangle with methods set_dimensions() to set the dimensions and area() to calculate the\n",
        "area."
      ],
      "metadata": {
        "id": "lVonRKS6CCmQ"
      }
    },
    {
      "cell_type": "code",
      "source": [
        "class Rectangle:\n",
        "    def __init__(self):\n",
        "        self.length = 0\n",
        "        self.width = 0\n",
        "\n",
        "    def set_dimensions(self, length, width):\n",
        "        self.length = length\n",
        "        self.width = width\n",
        "\n",
        "    def area(self):\n",
        "        return self.length * self.width\n",
        "\n",
        "# Test it\n",
        "r = Rectangle()\n",
        "r.set_dimensions(5, 3)\n",
        "print(f\"Area of rectangle: {r.area()}\")  # Output: Area of rectangle: 15"
      ],
      "metadata": {
        "colab": {
          "base_uri": "https://localhost:8080/"
        },
        "id": "DowjUcymCHQb",
        "outputId": "1528169e-3ce8-4100-e896-5d451ead9392"
      },
      "execution_count": 13,
      "outputs": [
        {
          "output_type": "stream",
          "name": "stdout",
          "text": [
            "Area of rectangle: 15\n"
          ]
        }
      ]
    },
    {
      "cell_type": "markdown",
      "source": [
        " 14. Create a class Employee with a method calculate_salary() that computes the salary based on hours worked\n",
        "and hourly rate. Create a derived class Manager that adds a bonus to the salary."
      ],
      "metadata": {
        "id": "cs1vk1c0CePA"
      }
    },
    {
      "cell_type": "code",
      "source": [
        "class Employee:\n",
        "    def __init__(self, name, hours_worked, hourly_rate):\n",
        "        self.name = name\n",
        "        self.hours_worked = hours_worked\n",
        "        self.hourly_rate = hourly_rate\n",
        "\n",
        "    def calculate_salary(self):\n",
        "        return self.hours_worked * self.hourly_rate\n",
        "\n",
        "class Manager(Employee):\n",
        "    def __init__(self, name, hours_worked, hourly_rate, bonus):\n",
        "        super().__init__(name, hours_worked, hourly_rate)\n",
        "        self.bonus = bonus\n",
        "\n",
        "    def calculate_salary(self):\n",
        "        base_salary = super().calculate_salary()\n",
        "        return base_salary + self.bonus\n",
        "\n",
        "# Test it\n",
        "e = Employee(\"Amit\", 40, 500)\n",
        "m = Manager(\"Priya\", 40, 500, 5000)\n",
        "\n",
        "print(f\"{e.name}'s salary: ₹{e.calculate_salary()}\")  # Output: Amit's salary: ₹20000\n",
        "print(f\"{m.name}'s salary: ₹{m.calculate_salary()}\")  # Output: Priya's salary: ₹25000"
      ],
      "metadata": {
        "colab": {
          "base_uri": "https://localhost:8080/"
        },
        "id": "Sk5SzFvoCkGJ",
        "outputId": "cbbf200f-2dd2-4ec3-9db7-e49e69a32553"
      },
      "execution_count": 14,
      "outputs": [
        {
          "output_type": "stream",
          "name": "stdout",
          "text": [
            "Amit's salary: ₹20000\n",
            "Priya's salary: ₹25000\n"
          ]
        }
      ]
    },
    {
      "cell_type": "markdown",
      "source": [
        "15. Create a class Product with attributes name, price, and quantity. Implement a method total_price() that\n",
        "calculates the total price of the product."
      ],
      "metadata": {
        "id": "bp_J7U4XCo1m"
      }
    },
    {
      "cell_type": "code",
      "source": [
        "class Product:\n",
        "    def __init__(self, name, price, quantity):\n",
        "        self.name = name\n",
        "        self.price = price      # Price per unit\n",
        "        self.quantity = quantity  # Number of units\n",
        "\n",
        "    def total_price(self):\n",
        "        return self.price * self.quantity\n",
        "\n",
        "# Test it\n",
        "p = Product(\"Laptop\", 55000, 2)\n",
        "print(f\"Total price for {p.quantity} {p.name}(s): ₹{p.total_price()}\")  # Output: ₹110000"
      ],
      "metadata": {
        "colab": {
          "base_uri": "https://localhost:8080/"
        },
        "id": "8xEQ5foQCuZY",
        "outputId": "0accfc0a-312b-42b8-a388-7e67f3de7bb4"
      },
      "execution_count": 15,
      "outputs": [
        {
          "output_type": "stream",
          "name": "stdout",
          "text": [
            "Total price for 2 Laptop(s): ₹110000\n"
          ]
        }
      ]
    },
    {
      "cell_type": "markdown",
      "source": [
        " 16. Create a class Animal with an abstract method sound(). Create two derived classes Cow and Sheep that\n",
        "implement the sound() method."
      ],
      "metadata": {
        "id": "G4-drYnpC1JB"
      }
    },
    {
      "cell_type": "code",
      "source": [
        "from abc import ABC, abstractmethod\n",
        "\n",
        "class Animal(ABC):\n",
        "    @abstractmethod\n",
        "    def sound(self):\n",
        "        pass\n",
        "\n",
        "class Cow(Animal):\n",
        "    def sound(self):\n",
        "        return \"Moo\"\n",
        "\n",
        "class Sheep(Animal):\n",
        "    def sound(self):\n",
        "        return \"Baa\"\n",
        "\n",
        "# Test it\n",
        "animals = [Cow(), Sheep()]\n",
        "for animal in animals:\n",
        "    print(f\"{animal.__class__.__name__} says: {animal.sound()}\")"
      ],
      "metadata": {
        "colab": {
          "base_uri": "https://localhost:8080/"
        },
        "id": "qYnLBOYNC7U2",
        "outputId": "16e73793-381a-4464-bdfc-1991399dc873"
      },
      "execution_count": 16,
      "outputs": [
        {
          "output_type": "stream",
          "name": "stdout",
          "text": [
            "Cow says: Moo\n",
            "Sheep says: Baa\n"
          ]
        }
      ]
    },
    {
      "cell_type": "markdown",
      "source": [
        " 17. Create a class Book with attributes title, author, and year_published. Add a method get_book_info() that\n",
        "returns a formatted string with the book's details."
      ],
      "metadata": {
        "id": "VcQlmAMvDBoD"
      }
    },
    {
      "cell_type": "code",
      "source": [
        "class Book:\n",
        "    def __init__(self, title, author, year_published):\n",
        "        self.title = title\n",
        "        self.author = author\n",
        "        self.year_published = year_published\n",
        "\n",
        "    def get_book_info(self):\n",
        "        return f\"'{self.title}' by {self.author} (Published: {self.year_published})\"\n",
        "\n",
        "# Test it\n",
        "b = Book(\"To Kill a Mockingbird\", \"Harper Lee\", 1960)\n",
        "print(b.get_book_info())  # Output: 'To Kill a Mockingbird' by Harper Lee (Published: 1960)"
      ],
      "metadata": {
        "colab": {
          "base_uri": "https://localhost:8080/"
        },
        "id": "RgT9MmfVDva4",
        "outputId": "c45defaa-5237-4a0b-9844-156d8d7d24d9"
      },
      "execution_count": 17,
      "outputs": [
        {
          "output_type": "stream",
          "name": "stdout",
          "text": [
            "'To Kill a Mockingbird' by Harper Lee (Published: 1960)\n"
          ]
        }
      ]
    },
    {
      "cell_type": "markdown",
      "source": [
        " 18. Create a class House with attributes address and price. Create a derived class Mansion that adds an\n",
        "attribute number_of_rooms."
      ],
      "metadata": {
        "id": "BVDpnCNvD18o"
      }
    },
    {
      "cell_type": "code",
      "source": [
        "class House:\n",
        "    def __init__(self, address, price):\n",
        "        self.address = address\n",
        "        self.price = price\n",
        "\n",
        "class Mansion(House):\n",
        "    def __init__(self, address, price, number_of_rooms):\n",
        "        super().__init__(address, price)\n",
        "        self.number_of_rooms = number_of_rooms\n",
        "\n",
        "# Test it\n",
        "h = House(\"123 Maple Street\", 7500000)\n",
        "m = Mansion(\"456 Royal Avenue\", 25000000, 12)\n",
        "\n",
        "print(f\"House at {h.address} costs ₹{h.price}\")\n",
        "print(f\"Mansion at {m.address} costs ₹{m.price} and has {m.number_of_rooms} rooms\")"
      ],
      "metadata": {
        "colab": {
          "base_uri": "https://localhost:8080/"
        },
        "id": "kwmItaaQEByN",
        "outputId": "64d89848-e9c1-44ca-fe6b-d5385ef94474"
      },
      "execution_count": 18,
      "outputs": [
        {
          "output_type": "stream",
          "name": "stdout",
          "text": [
            "House at 123 Maple Street costs ₹7500000\n",
            "Mansion at 456 Royal Avenue costs ₹25000000 and has 12 rooms\n"
          ]
        }
      ]
    }
  ]
}